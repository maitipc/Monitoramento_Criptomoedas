{
 "cells": [
  {
   "cell_type": "markdown",
   "id": "224d912c",
   "metadata": {},
   "source": [
    "<!-- Projeto Desenvolvido na Data Science Academy - www.datascienceacademy.com.br -->\n",
    "### <font color='blue'>Monitoramento de Criptomoedas em Tempo Real com Kafka, MongoDB e Streamlit</font>\n",
    "### <font color='blue'>Criação do Producer Kafka</font>"
   ]
  },
  {
   "cell_type": "code",
   "execution_count": null,
   "id": "047cca56-83d4-4203-888c-08c56efe1916",
   "metadata": {},
   "outputs": [],
   "source": [
    "# Imports\n",
    "import json\n",
    "import time \n",
    "import requests\n",
    "import pandas as pd\n",
    "from kafka import KafkaProducer\n",
    "from datetime import datetime\n",
    "from json import dumps\n",
    "from configparser import RawConfigParser"
   ]
  },
  {
   "cell_type": "code",
   "execution_count": null,
   "id": "e96dc2aa-1a30-4631-be26-53a5f089780c",
   "metadata": {},
   "outputs": [],
   "source": [
    "# Carrega o arquivo de configuração\n",
    "config_local = RawConfigParser()\n",
    "config_local.read(\"config.conf\")"
   ]
  },
  {
   "cell_type": "markdown",
   "id": "03c6b8c5-a3f2-4fe0-8d45-e4b5b38e4f4b",
   "metadata": {},
   "source": [
    "Inicialização do Kafka Producer\n",
    "<!-- Projeto Desenvolvido na Data Science Academy - www.datascienceacademy.com.br -->\n",
    "- O KafkaProducer é inicializado com bootstrap_servers apontando para os brokers do Kafka e value_serializer é usado para serializar dados (objetos Python) no formato JSON e codificá-los em bytes antes de enviá-los ao Kafka."
   ]
  },
  {
   "cell_type": "code",
   "execution_count": null,
   "id": "0322e8c7-144d-44d0-94f4-860e520f5776",
   "metadata": {},
   "outputs": [],
   "source": [
    "# Definimos as configurações\n",
    "server = config_local['Host']['ip']\n",
    "port = config_local['Host']['port']\n",
    "server = [f\"{server}:{port}\"]"
   ]
  },
  {
   "cell_type": "markdown",
   "id": "a13a0783",
   "metadata": {},
   "source": [
    "Codificamos as mensagens em UTF-8 para que elas possam ser enviadas corretamente ao Kafka e qualquer consumidor que leia essas mensagens possa decodificá-las como UTF-8 JSON."
   ]
  },
  {
   "cell_type": "code",
   "execution_count": null,
   "id": "53a66f6e",
   "metadata": {},
   "outputs": [],
   "source": [
    "# Cria o producer\n",
    "producer = KafkaProducer(bootstrap_servers = server, value_serializer = lambda x:dumps(x).encode('utf-8'))"
   ]
  },
  {
   "cell_type": "code",
   "execution_count": null,
   "id": "92aa1dec",
   "metadata": {},
   "outputs": [],
   "source": [
    "type(producer)"
   ]
  },
  {
   "cell_type": "code",
   "execution_count": null,
   "id": "8330a277-7116-49d4-8de0-f13f42696dc2",
   "metadata": {},
   "outputs": [],
   "source": [
    "# Define a função para obter dados de criptomoedas através da API\n",
    "def cryptoApi():\n",
    "    \n",
    "    # Obtém a URL da API de criptomoedas a partir da configuração local\n",
    "    #url = config_local['CryptoCoinAPI']['url']\n",
    "    url = f\"{config_local['CryptoCoinAPI']['url']}?apiKey={config_local['CryptoCoinAPI']['api_key']}\"\n",
    "    \n",
    "    # Faz uma requisição GET para a URL da API\n",
    "    response = requests.get(url)      \n",
    "    \n",
    "    # Converte a resposta da API para o formato JSON\n",
    "    resultado = response.json()          \n",
    "    \n",
    "    # Captura o timestamp atual no formato \"YYYY-MM-DD HH:MM:SS\"\n",
    "    current_timestamp = datetime.now().strftime(\"%Y-%m-%d %H:%M:%S\")\n",
    "    \n",
    "    # Inicializa um dicionário para armazenar os dados do top 10\n",
    "    top_10 = {}\n",
    "    \n",
    "    # Adiciona o timestamp atual ao dicionário\n",
    "    top_10['timestamp'] = current_timestamp\n",
    "    \n",
    "    # Adiciona os dados das 10 principais criptomoedas retornadas pela API\n",
    "    top_10['data'] = resultado['data'][:10]   \n",
    "    \n",
    "    # Envia os dados do top 10 para o tópico Kafka\n",
    "    producer.send('crypto-topic', value = top_10)\n",
    "    \n",
    "    # Retorna os dados do top 10 como resultado da função\n",
    "    return top_10"
   ]
  },
  {
   "cell_type": "code",
   "execution_count": null,
   "id": "cdfdbb43-5912-4bb8-823f-2f719653f87d",
   "metadata": {},
   "outputs": [],
   "source": [
    "# Chama a função 25 vezes com um intervalo de 15 segundos entre cada chamada.\n",
    "# Altere a condição para while(True) para buscar continuamente dados em tempo real.\n",
    "# Fique atento aos limites da API.\n",
    "\n",
    "counter = 0\n",
    "#while(True):\n",
    "while counter < 25:\n",
    "\n",
    "    # Contador\n",
    "    counter += 1\n",
    "    \n",
    "    print(f\"Chamando a Função Para Extrair Dados em Tempo Real. Contador: {counter}\")\n",
    "\n",
    "    # Tratamento de erros\n",
    "    try:\n",
    "        cryptoApi()\n",
    "    except Exception as e:\n",
    "        print(f\"Erro ao chamar cryptoApi: {e}\")\n",
    "    \n",
    "    print(\"Aguardando 15 segundos...\")\n",
    "    time.sleep(15)"
   ]
  },
  {
   "cell_type": "markdown",
   "id": "1c4a7dbd",
   "metadata": {},
   "source": [
    "# Fim"
   ]
  }
 ],
 "metadata": {
  "kernelspec": {
   "display_name": "Python 3 (ipykernel)",
   "language": "python",
   "name": "python3"
  },
  "language_info": {
   "codemirror_mode": {
    "name": "ipython",
    "version": 3
   },
   "file_extension": ".py",
   "mimetype": "text/x-python",
   "name": "python",
   "nbconvert_exporter": "python",
   "pygments_lexer": "ipython3",
   "version": "3.11.5"
  }
 },
 "nbformat": 4,
 "nbformat_minor": 5
}
