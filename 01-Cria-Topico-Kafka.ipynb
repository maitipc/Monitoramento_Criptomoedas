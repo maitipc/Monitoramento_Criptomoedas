{
 "cells": [
  {
   "cell_type": "markdown",
   "id": "7bdd9318",
   "metadata": {},
   "source": [
    "<!-- Projeto Desenvolvido na Data Science Academy -->\n",
    "### <font color='blue'>Monitoramento de Criptomoedas em Tempo Real com Kafka, MongoDB e Streamlit</font>\n",
    "### <font color='blue'>Criação do Tópico Kafka</font>"
   ]
  },
  {
   "cell_type": "code",
   "execution_count": 1,
   "id": "04c496f6",
   "metadata": {},
   "outputs": [],
   "source": [
    "!pip install -q kafka-python==2.0.2"
   ]
  },
  {
   "cell_type": "code",
   "execution_count": 2,
   "id": "1d5a678f-172b-4f2b-b819-45cd32123e67",
   "metadata": {},
   "outputs": [],
   "source": [
    "# Imports\n",
    "from kafka.admin import KafkaAdminClient, NewTopic"
   ]
  },
  {
   "cell_type": "code",
   "execution_count": 3,
   "id": "aefea481-f56a-4348-8b47-9eafeb9837ae",
   "metadata": {},
   "outputs": [],
   "source": [
    "# Define a função para criar tópicos no Kafka\n",
    "def cria_topico_kafka(bootstrap_servers, topics, num_partitions = 1, replication_factor = 1):\n",
    "    \n",
    "    try:\n",
    "        # Cria um cliente do Kafka com os servidores especificados\n",
    "        admin_client = KafkaAdminClient(bootstrap_servers = bootstrap_servers)\n",
    "\n",
    "        # Cria uma lista de objetos NewTopic para os tópicos a serem criados (caso queira criar mais de um)\n",
    "        topic_list = [\n",
    "            NewTopic(name = topic, num_partitions = num_partitions, replication_factor = replication_factor)\n",
    "            for topic in topics\n",
    "        ]\n",
    "\n",
    "        # Envia a solicitação para criar os tópicos no Kafka\n",
    "        admin_client.create_topics(new_topics = topic_list, validate_only = False)\n",
    "        \n",
    "        # Exibe uma mensagem de sucesso com os nomes dos tópicos criados\n",
    "        print(f\"Tópico Criado com Sucesso: {', '.join(topics)}\")\n",
    "    except Exception as e:\n",
    "        # Exibe uma mensagem de erro caso a criação falhe\n",
    "        print(f\"Erro ao Criar o Tópico: {e}\")\n",
    "    finally:\n",
    "        # Fecha o cliente administrativo do Kafka, garantindo que os recursos sejam liberados\n",
    "        admin_client.close()"
   ]
  },
  {
   "cell_type": "code",
   "execution_count": 4,
   "id": "190a3d1a-b2a8-4a6c-b38c-d65ce7b5f890",
   "metadata": {},
   "outputs": [],
   "source": [
    "# Kafka Config\n",
    "bootstrap_servers = \"localhost:9092\"\n",
    "topics = [\"crypto-topic\"]"
   ]
  },
  {
   "cell_type": "code",
   "execution_count": null,
   "id": "e7bb9c1e",
   "metadata": {},
   "outputs": [],
   "source": [
    "# Executa a função\n",
    "cria_topico_kafka(bootstrap_servers, topics)"
   ]
  },
  {
   "cell_type": "markdown",
   "id": "17851c7f",
   "metadata": {},
   "source": [
    "# Fim"
   ]
  }
 ],
 "metadata": {
  "kernelspec": {
   "display_name": "Python 3 (ipykernel)",
   "language": "python",
   "name": "python3"
  },
  "language_info": {
   "codemirror_mode": {
    "name": "ipython",
    "version": 3
   },
   "file_extension": ".py",
   "mimetype": "text/x-python",
   "name": "python",
   "nbconvert_exporter": "python",
   "pygments_lexer": "ipython3",
   "version": "3.11.5"
  }
 },
 "nbformat": 4,
 "nbformat_minor": 5
}
